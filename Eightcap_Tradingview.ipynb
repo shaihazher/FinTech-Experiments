{
 "cells": [
  {
   "cell_type": "code",
   "execution_count": 3,
   "metadata": {},
   "outputs": [],
   "source": [
    "import pandas as pd\n",
    "buy_pred = pd.DataFrame({\"a\":[0]})\n",
    "buy_pred.to_csv(r\"C:\\Users\\91984\\AppData\\Roaming\\MetaQuotes\\Terminal\\C419E35F6EFCAC731FACC09E5EB1D6BB\\MQL4\\Files\\buy_pred.csv\",index=False)\n",
    "\n",
    "sell_pred = pd.DataFrame({\"a\":[0]})\n",
    "sell_pred.to_csv(r\"C:\\Users\\91984\\AppData\\Roaming\\MetaQuotes\\Terminal\\C419E35F6EFCAC731FACC09E5EB1D6BB\\MQL4\\Files\\sell_pred.csv\",index=False)\n",
    "\n",
    "buy_stop = pd.DataFrame({\"a\":[0]})\n",
    "buy_stop.to_csv(r\"C:\\Users\\91984\\AppData\\Roaming\\MetaQuotes\\Terminal\\C419E35F6EFCAC731FACC09E5EB1D6BB\\MQL4\\Files\\buy_stop.csv\",index=False)\n",
    "\n",
    "sell_stop = pd.DataFrame({\"a\":[0]})\n",
    "sell_stop.to_csv(r\"C:\\Users\\91984\\AppData\\Roaming\\MetaQuotes\\Terminal\\C419E35F6EFCAC731FACC09E5EB1D6BB\\MQL4\\Files\\sell_stop.csv\",index=False)\n"
   ]
  },
  {
   "cell_type": "code",
   "execution_count": null,
   "metadata": {},
   "outputs": [
    {
     "name": "stderr",
     "output_type": "stream",
     "text": [
      "127.0.0.1 - - [15/Jan/2022 05:50:53] \"\u001b[37mPOST /webhook HTTP/1.1\u001b[0m\" 200 -\n",
      "127.0.0.1 - - [15/Jan/2022 05:50:53] \"\u001b[37mPOST /webhook HTTP/1.1\u001b[0m\" 200 -\n"
     ]
    },
    {
     "name": "stdout",
     "output_type": "stream",
     "text": [
      "{'Action': 'sell', 'Symbol': 'BTCUSD', 'Position_Size': -0.150958, 'Price': 43020}\n",
      "{'Action': 'sell', 'Symbol': 'BTCUSD', 'Position_Size': 0, 'Price': 43020}\n"
     ]
    }
   ],
   "source": [
    "from flask import Flask\n",
    "from flask import request\n",
    "from IPython.display import display, clear_output\n",
    "import json\n",
    "\n",
    "app = Flask(__name__)\n",
    "\n",
    "buy_main_order = None\n",
    "sell_main_order = None\n",
    "\n",
    "@app.route('/webhook', methods=['POST'])\n",
    "def tradingview_webhook():\n",
    "    clear_output(wait=True)\n",
    "    data = json.loads(request.data)\n",
    "    symbol = 'BTCUSDT'\n",
    "    if data['Action'] == 'buy':\n",
    "        if data['Position_Size'] == 0:\n",
    "            while True:\n",
    "                try:\n",
    "                    sell_stop = pd.DataFrame({\"a\":[1]})\n",
    "                    sell_stop.to_csv(r\"C:\\Users\\91984\\AppData\\Roaming\\MetaQuotes\\Terminal\\C419E35F6EFCAC731FACC09E5EB1D6BB\\MQL4\\Files\\sell_stop.csv\",index=False)\n",
    "                    break\n",
    "                except:\n",
    "                    print('buy stop trying')\n",
    "                    continue\n",
    "        if data['Position_Size'] != 0:\n",
    "            while True:\n",
    "                try:\n",
    "                    buy_pred = pd.DataFrame({\"a\":[1]})\n",
    "                    buy_pred.to_csv(r\"C:\\Users\\91984\\AppData\\Roaming\\MetaQuotes\\Terminal\\C419E35F6EFCAC731FACC09E5EB1D6BB\\MQL4\\Files\\buy_pred.csv\",index=False)\n",
    "                    break\n",
    "                except:\n",
    "                    print('buy pred trying')\n",
    "                    continue\n",
    "    if data['Action'] == 'sell':\n",
    "        if data['Position_Size'] == 0:\n",
    "            while True:\n",
    "                try:\n",
    "                    buy_stop = pd.DataFrame({\"a\":[1]})\n",
    "                    buy_stop.to_csv(r\"C:\\Users\\91984\\AppData\\Roaming\\MetaQuotes\\Terminal\\C419E35F6EFCAC731FACC09E5EB1D6BB\\MQL4\\Files\\buy_stop.csv\",index=False)\n",
    "                    break\n",
    "                except:\n",
    "                    print('sell stop trying')\n",
    "                    continue\n",
    "        if data['Position_Size'] != 0:\n",
    "            while True:\n",
    "                try:\n",
    "                    sell_pred = pd.DataFrame({\"a\":[1]})\n",
    "                    sell_pred.to_csv(r\"C:\\Users\\91984\\AppData\\Roaming\\MetaQuotes\\Terminal\\C419E35F6EFCAC731FACC09E5EB1D6BB\\MQL4\\Files\\sell_pred.csv\",index=False)\n",
    "                    break\n",
    "                except:\n",
    "                    print('sell pred trying')\n",
    "                    continue\n",
    "    print(data)\n",
    "    return {\"Status\":\"Success\"}\n",
    "  \n",
    "# main driver function\n",
    "if __name__ == '__main__':\n",
    "    app.run(port=80)"
   ]
  },
  {
   "cell_type": "code",
   "execution_count": null,
   "metadata": {},
   "outputs": [],
   "source": []
  }
 ],
 "metadata": {
  "kernelspec": {
   "display_name": "Python 3",
   "language": "python",
   "name": "python3"
  },
  "language_info": {
   "codemirror_mode": {
    "name": "ipython",
    "version": 3
   },
   "file_extension": ".py",
   "mimetype": "text/x-python",
   "name": "python",
   "nbconvert_exporter": "python",
   "pygments_lexer": "ipython3",
   "version": "3.7.6"
  }
 },
 "nbformat": 4,
 "nbformat_minor": 4
}
