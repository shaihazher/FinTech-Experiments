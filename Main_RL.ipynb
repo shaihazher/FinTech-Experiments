{
 "cells": [
  {
   "cell_type": "code",
   "execution_count": 1,
   "metadata": {},
   "outputs": [
    {
     "name": "stdout",
     "output_type": "stream",
     "text": [
      "Entered\n",
      "started\n"
     ]
    }
   ],
   "source": [
    "import numpy as np\n",
    "from DuelingDQNAgent import DuelingDDQNAgent\n",
    "from Trading_Simulator import Tade_Sim\n",
    "\n",
    "env = Tade_Sim(\"Testing_RL.csv\")\n",
    "data_len = env.load_data()\n"
   ]
  },
  {
   "cell_type": "code",
   "execution_count": 2,
   "metadata": {},
   "outputs": [
    {
     "name": "stdout",
     "output_type": "stream",
     "text": [
      "73984\n",
      "73984\n",
      "... loading checkpoint ...\n",
      "... loading checkpoint ...\n"
     ]
    }
   ],
   "source": [
    "\n",
    "best_score = -np.inf\n",
    "load_checkpoint = True\n",
    "n_games = 1\n",
    "agent = DuelingDDQNAgent(gamma=0.05, epsilon=0.0, lr=0.0001,\n",
    "                 input_dims=(52*8),\n",
    "                 n_actions=3, mem_size=100000, eps_min=0.0,\n",
    "                 batch_size=32, replace=1000, eps_dec=1e-4,\n",
    "                 chkpt_dir='models/', algo='DuelingDDQNAgent',\n",
    "                 env_name='EURUSD_Trader')\n",
    "\n",
    "if load_checkpoint:\n",
    "    agent.load_models()\n",
    "\n",
    "n_steps = 1\n",
    "scores, preds, steps_array = [], [], []"
   ]
  },
  {
   "cell_type": "code",
   "execution_count": 3,
   "metadata": {},
   "outputs": [
    {
     "name": "stdout",
     "output_type": "stream",
     "text": [
      "TerminalInfo(community_account=False, community_connection=False, connected=True, dlls_allowed=False, trade_allowed=True, tradeapi_disabled=False, email_enabled=False, ftp_enabled=False, notifications_enabled=False, mqid=False, build=2567, maxbars=100000, codepage=0, ping_last=146380, community_balance=0.0, retransmission=0.0, company='MetaQuotes Software Corp.', name='MetaTrader 5', language='English', path='C:\\\\Program Files\\\\MetaTrader 5', ...)\n",
      "(500, 2567, '03 Aug 2020')\n"
     ]
    }
   ],
   "source": [
    "from datetime import datetime\n",
    "import pandas as pd\n",
    "import MetaTrader5 as mt5\n",
    "import pytz\n",
    "import numpy as np\n",
    "from pyts.image import GramianAngularField\n",
    "import matplotlib.pyplot as plt\n",
    "import plotly.graph_objects as go\n",
    "import plotly.express as px\n",
    "import plotly.io as pio\n",
    "\n",
    "if not mt5.initialize():\n",
    "    print(\"initialize() failed\")\n",
    "    mt5.shutdown()\n",
    "# request connection status and parameters\n",
    "print(mt5.terminal_info())\n",
    "# get data on MetaTrader 5 version\n",
    "print(mt5.version())\n"
   ]
  },
  {
   "cell_type": "code",
   "execution_count": 4,
   "metadata": {},
   "outputs": [
    {
     "data": {
      "text/html": [
       "<div>\n",
       "<style scoped>\n",
       "    .dataframe tbody tr th:only-of-type {\n",
       "        vertical-align: middle;\n",
       "    }\n",
       "\n",
       "    .dataframe tbody tr th {\n",
       "        vertical-align: top;\n",
       "    }\n",
       "\n",
       "    .dataframe thead th {\n",
       "        text-align: right;\n",
       "    }\n",
       "</style>\n",
       "<table border=\"1\" class=\"dataframe\">\n",
       "  <thead>\n",
       "    <tr style=\"text-align: right;\">\n",
       "      <th></th>\n",
       "      <th>time</th>\n",
       "      <th>open</th>\n",
       "      <th>high</th>\n",
       "      <th>low</th>\n",
       "      <th>close</th>\n",
       "      <th>tick_volume</th>\n",
       "      <th>spread</th>\n",
       "      <th>real_volume</th>\n",
       "    </tr>\n",
       "  </thead>\n",
       "  <tbody>\n",
       "    <tr>\n",
       "      <th>0</th>\n",
       "      <td>1596614400</td>\n",
       "      <td>1.18168</td>\n",
       "      <td>1.18178</td>\n",
       "      <td>1.18148</td>\n",
       "      <td>1.18157</td>\n",
       "      <td>217</td>\n",
       "      <td>2</td>\n",
       "      <td>0</td>\n",
       "    </tr>\n",
       "    <tr>\n",
       "      <th>1</th>\n",
       "      <td>1596615300</td>\n",
       "      <td>1.18156</td>\n",
       "      <td>1.18167</td>\n",
       "      <td>1.18113</td>\n",
       "      <td>1.18115</td>\n",
       "      <td>298</td>\n",
       "      <td>2</td>\n",
       "      <td>0</td>\n",
       "    </tr>\n",
       "    <tr>\n",
       "      <th>2</th>\n",
       "      <td>1596616200</td>\n",
       "      <td>1.18116</td>\n",
       "      <td>1.18130</td>\n",
       "      <td>1.18098</td>\n",
       "      <td>1.18100</td>\n",
       "      <td>244</td>\n",
       "      <td>1</td>\n",
       "      <td>0</td>\n",
       "    </tr>\n",
       "    <tr>\n",
       "      <th>3</th>\n",
       "      <td>1596617100</td>\n",
       "      <td>1.18100</td>\n",
       "      <td>1.18123</td>\n",
       "      <td>1.18029</td>\n",
       "      <td>1.18032</td>\n",
       "      <td>312</td>\n",
       "      <td>1</td>\n",
       "      <td>0</td>\n",
       "    </tr>\n",
       "    <tr>\n",
       "      <th>4</th>\n",
       "      <td>1596618000</td>\n",
       "      <td>1.18031</td>\n",
       "      <td>1.18076</td>\n",
       "      <td>1.18019</td>\n",
       "      <td>1.18072</td>\n",
       "      <td>445</td>\n",
       "      <td>1</td>\n",
       "      <td>0</td>\n",
       "    </tr>\n",
       "  </tbody>\n",
       "</table>\n",
       "</div>"
      ],
      "text/plain": [
       "         time     open     high      low    close  tick_volume  spread  \\\n",
       "0  1596614400  1.18168  1.18178  1.18148  1.18157          217       2   \n",
       "1  1596615300  1.18156  1.18167  1.18113  1.18115          298       2   \n",
       "2  1596616200  1.18116  1.18130  1.18098  1.18100          244       1   \n",
       "3  1596617100  1.18100  1.18123  1.18029  1.18032          312       1   \n",
       "4  1596618000  1.18031  1.18076  1.18019  1.18072          445       1   \n",
       "\n",
       "   real_volume  \n",
       "0            0  \n",
       "1            0  \n",
       "2            0  \n",
       "3            0  \n",
       "4            0  "
      ]
     },
     "execution_count": 4,
     "metadata": {},
     "output_type": "execute_result"
    }
   ],
   "source": [
    "rates = mt5.copy_rates_from_pos(\"EURUSD\", mt5.TIMEFRAME_M15, 1, 52)\n",
    "\n",
    "df1 = pd.DataFrame(rates)\n",
    "df1.head()"
   ]
  },
  {
   "cell_type": "code",
   "execution_count": 7,
   "metadata": {},
   "outputs": [
    {
     "name": "stdout",
     "output_type": "stream",
     "text": [
      "1\n"
     ]
    }
   ],
   "source": [
    "rates = mt5.copy_rates_from_pos(\"EURUSD\", mt5.TIMEFRAME_H4, 1, 52)\n",
    "\n",
    "df1 = pd.DataFrame(rates)\n",
    "opener = df1.open.tolist()\n",
    "closer = df1.close.tolist()\n",
    "vec = []\n",
    "for o,c in zip(opener,closer):\n",
    "    vec += [o] + [c]\n",
    "\n",
    "vec_in = np.array(vec).reshape(-1,52*2)\n",
    "gaf = GramianAngularField(image_size=vec_in.shape[1], method='summation')\n",
    "X_gaf = gaf.fit_transform(vec_in).reshape((vec_in.shape[1],vec_in.shape[1]))\n",
    "\n",
    "layout = go.Layout(\n",
    "  margin=go.layout.Margin(\n",
    "        l=0, #left margin\n",
    "        r=0, #right margin\n",
    "        b=0, #bottom margin\n",
    "        t=0  #top margin\n",
    "    ),\n",
    "  coloraxis_showscale = False\n",
    ")\n",
    "\n",
    "fig = go.Figure(data=go.Heatmap(z = X_gaf, showscale=False), layout=layout)\n",
    "#fig.update_layout(coloraxis_showscale=False)\n",
    "fig.update_xaxes(showticklabels=False)\n",
    "fig.update_yaxes(showticklabels=False)\n",
    "\n",
    "pio.write_image(fig,r'C:\\Users\\91984\\Desktop\\Bot ML\\FX_RL\\Test_images\\tester\\sample3.png', width=300, height = 300)\n",
    "\n",
    "action = agent.choose_action()\n",
    "\n",
    "print(action)"
   ]
  }
 ],
 "metadata": {
  "kernelspec": {
   "display_name": "Python 3",
   "language": "python",
   "name": "python3"
  },
  "language_info": {
   "codemirror_mode": {
    "name": "ipython",
    "version": 3
   },
   "file_extension": ".py",
   "mimetype": "text/x-python",
   "name": "python",
   "nbconvert_exporter": "python",
   "pygments_lexer": "ipython3",
   "version": "3.7.6"
  }
 },
 "nbformat": 4,
 "nbformat_minor": 4
}
