{
 "cells": [
  {
   "cell_type": "code",
   "execution_count": 3,
   "metadata": {},
   "outputs": [
    {
     "data": {
      "text/html": [
       "<div>\n",
       "<style scoped>\n",
       "    .dataframe tbody tr th:only-of-type {\n",
       "        vertical-align: middle;\n",
       "    }\n",
       "\n",
       "    .dataframe tbody tr th {\n",
       "        vertical-align: top;\n",
       "    }\n",
       "\n",
       "    .dataframe thead th {\n",
       "        text-align: right;\n",
       "    }\n",
       "</style>\n",
       "<table border=\"1\" class=\"dataframe\">\n",
       "  <thead>\n",
       "    <tr style=\"text-align: right;\">\n",
       "      <th></th>\n",
       "      <th>a</th>\n",
       "      <th>b1</th>\n",
       "      <th>b</th>\n",
       "    </tr>\n",
       "  </thead>\n",
       "  <tbody>\n",
       "    <tr>\n",
       "      <th>0</th>\n",
       "      <td>0</td>\n",
       "      <td>0</td>\n",
       "      <td>NaN</td>\n",
       "    </tr>\n",
       "    <tr>\n",
       "      <th>1</th>\n",
       "      <td>1</td>\n",
       "      <td>1</td>\n",
       "      <td>20.0</td>\n",
       "    </tr>\n",
       "    <tr>\n",
       "      <th>2</th>\n",
       "      <td>2</td>\n",
       "      <td>2</td>\n",
       "      <td>40.0</td>\n",
       "    </tr>\n",
       "    <tr>\n",
       "      <th>3</th>\n",
       "      <td>3</td>\n",
       "      <td>3</td>\n",
       "      <td>40.0</td>\n",
       "    </tr>\n",
       "    <tr>\n",
       "      <th>4</th>\n",
       "      <td>4</td>\n",
       "      <td>4</td>\n",
       "      <td>40.0</td>\n",
       "    </tr>\n",
       "    <tr>\n",
       "      <th>5</th>\n",
       "      <td>5</td>\n",
       "      <td>5</td>\n",
       "      <td>60.0</td>\n",
       "    </tr>\n",
       "    <tr>\n",
       "      <th>6</th>\n",
       "      <td>6</td>\n",
       "      <td>6</td>\n",
       "      <td>60.0</td>\n",
       "    </tr>\n",
       "    <tr>\n",
       "      <th>7</th>\n",
       "      <td>7</td>\n",
       "      <td>7</td>\n",
       "      <td>60.0</td>\n",
       "    </tr>\n",
       "    <tr>\n",
       "      <th>8</th>\n",
       "      <td>8</td>\n",
       "      <td>8</td>\n",
       "      <td>60.0</td>\n",
       "    </tr>\n",
       "    <tr>\n",
       "      <th>9</th>\n",
       "      <td>9</td>\n",
       "      <td>9</td>\n",
       "      <td>60.0</td>\n",
       "    </tr>\n",
       "    <tr>\n",
       "      <th>10</th>\n",
       "      <td>10</td>\n",
       "      <td>10</td>\n",
       "      <td>80.0</td>\n",
       "    </tr>\n",
       "  </tbody>\n",
       "</table>\n",
       "</div>"
      ],
      "text/plain": [
       "     a  b1     b\n",
       "0    0   0   NaN\n",
       "1    1   1  20.0\n",
       "2    2   2  40.0\n",
       "3    3   3  40.0\n",
       "4    4   4  40.0\n",
       "5    5   5  60.0\n",
       "6    6   6  60.0\n",
       "7    7   7  60.0\n",
       "8    8   8  60.0\n",
       "9    9   9  60.0\n",
       "10  10  10  80.0"
      ]
     },
     "execution_count": 3,
     "metadata": {},
     "output_type": "execute_result"
    }
   ],
   "source": [
    "df3 = pd.merge_asof(df2,df1,on='a')\n",
    "df3"
   ]
  },
  {
   "cell_type": "code",
   "execution_count": 1,
   "metadata": {},
   "outputs": [],
   "source": [
    "import requests\n",
    "import json\n",
    "\n",
    "quot = requests.get('https://api.polygon.io/v2/ticks/stocks/nbbo/SPY/2020-10-14?reverse=false&apiKey=lufsUoEw8W8uwOu6T9S3jMYSTFBCvUyf')\n",
    "\n",
    "quot = json.loads(quot.text)\n"
   ]
  },
  {
   "cell_type": "code",
   "execution_count": 13,
   "metadata": {},
   "outputs": [],
   "source": [
    "import pandas as pd\n",
    "\n",
    "df1 = pd.DataFrame(quot[\"results\"])\n"
   ]
  },
  {
   "cell_type": "code",
   "execution_count": 14,
   "metadata": {},
   "outputs": [],
   "source": [
    "trad = requests.get('https://api.polygon.io/v2/ticks/stocks/trades/SPY/2020-10-14?reverse=false&apiKey=lufsUoEw8W8uwOu6T9S3jMYSTFBCvUyf')\n",
    "trad = json.loads(trad.text)"
   ]
  },
  {
   "cell_type": "code",
   "execution_count": 15,
   "metadata": {},
   "outputs": [
    {
     "name": "stdout",
     "output_type": "stream",
     "text": [
      "                     t                    y       q               i   x    s  \\\n",
      "0  1602662400013037568  1602662400013010688  114301  52983525027889  11  351   \n",
      "1  1602662400184239872  1602662400184208896  114401  52983525027890  11   10   \n",
      "2  1602662400999701248  1602662400999350883  114701  62879129947992  12    2   \n",
      "3  1602662409152549632  1602662409152190867  114901  62879129948219  12    1   \n",
      "4  1602662414934051072  1602662414933700608  115001  62879129948257  12    1   \n",
      "\n",
      "                  c       p  z   f   r   e  \n",
      "0          [12, 41]  351.60  1 NaN NaN NaN  \n",
      "1  [14, 12, 37, 41]  351.56  1 NaN NaN NaN  \n",
      "2  [14, 12, 37, 41]  351.59  1 NaN NaN NaN  \n",
      "3          [12, 37]  351.53  1 NaN NaN NaN  \n",
      "4          [12, 37]  351.52  1 NaN NaN NaN  \n",
      "50000\n"
     ]
    }
   ],
   "source": [
    "df2 = pd.DataFrame(trad['results'])\n",
    "print(df2.head())\n",
    "print(len(df2))"
   ]
  },
  {
   "cell_type": "code",
   "execution_count": 16,
   "metadata": {},
   "outputs": [],
   "source": [
    "df1.y = pd.to_datetime(df1.y)"
   ]
  },
  {
   "cell_type": "code",
   "execution_count": 17,
   "metadata": {},
   "outputs": [],
   "source": [
    "df2.y = pd.to_datetime(df2.y)"
   ]
  },
  {
   "cell_type": "code",
   "execution_count": 18,
   "metadata": {},
   "outputs": [
    {
     "data": {
      "text/html": [
       "<div>\n",
       "<style scoped>\n",
       "    .dataframe tbody tr th:only-of-type {\n",
       "        vertical-align: middle;\n",
       "    }\n",
       "\n",
       "    .dataframe tbody tr th {\n",
       "        vertical-align: top;\n",
       "    }\n",
       "\n",
       "    .dataframe thead th {\n",
       "        text-align: right;\n",
       "    }\n",
       "</style>\n",
       "<table border=\"1\" class=\"dataframe\">\n",
       "  <thead>\n",
       "    <tr style=\"text-align: right;\">\n",
       "      <th></th>\n",
       "      <th>t</th>\n",
       "      <th>y</th>\n",
       "      <th>q</th>\n",
       "      <th>i</th>\n",
       "      <th>x</th>\n",
       "      <th>s</th>\n",
       "      <th>c</th>\n",
       "      <th>p</th>\n",
       "      <th>z</th>\n",
       "      <th>f</th>\n",
       "      <th>r</th>\n",
       "      <th>e</th>\n",
       "    </tr>\n",
       "  </thead>\n",
       "  <tbody>\n",
       "    <tr>\n",
       "      <th>0</th>\n",
       "      <td>1602662400013037568</td>\n",
       "      <td>2020-10-14 08:00:00.013010688</td>\n",
       "      <td>114301</td>\n",
       "      <td>52983525027889</td>\n",
       "      <td>11</td>\n",
       "      <td>351</td>\n",
       "      <td>[12, 41]</td>\n",
       "      <td>351.60</td>\n",
       "      <td>1</td>\n",
       "      <td>NaN</td>\n",
       "      <td>NaN</td>\n",
       "      <td>NaN</td>\n",
       "    </tr>\n",
       "    <tr>\n",
       "      <th>1</th>\n",
       "      <td>1602662400184239872</td>\n",
       "      <td>2020-10-14 08:00:00.184208896</td>\n",
       "      <td>114401</td>\n",
       "      <td>52983525027890</td>\n",
       "      <td>11</td>\n",
       "      <td>10</td>\n",
       "      <td>[14, 12, 37, 41]</td>\n",
       "      <td>351.56</td>\n",
       "      <td>1</td>\n",
       "      <td>NaN</td>\n",
       "      <td>NaN</td>\n",
       "      <td>NaN</td>\n",
       "    </tr>\n",
       "    <tr>\n",
       "      <th>2</th>\n",
       "      <td>1602662400999701248</td>\n",
       "      <td>2020-10-14 08:00:00.999350883</td>\n",
       "      <td>114701</td>\n",
       "      <td>62879129947992</td>\n",
       "      <td>12</td>\n",
       "      <td>2</td>\n",
       "      <td>[14, 12, 37, 41]</td>\n",
       "      <td>351.59</td>\n",
       "      <td>1</td>\n",
       "      <td>NaN</td>\n",
       "      <td>NaN</td>\n",
       "      <td>NaN</td>\n",
       "    </tr>\n",
       "    <tr>\n",
       "      <th>3</th>\n",
       "      <td>1602662409152549632</td>\n",
       "      <td>2020-10-14 08:00:09.152190867</td>\n",
       "      <td>114901</td>\n",
       "      <td>62879129948219</td>\n",
       "      <td>12</td>\n",
       "      <td>1</td>\n",
       "      <td>[12, 37]</td>\n",
       "      <td>351.53</td>\n",
       "      <td>1</td>\n",
       "      <td>NaN</td>\n",
       "      <td>NaN</td>\n",
       "      <td>NaN</td>\n",
       "    </tr>\n",
       "    <tr>\n",
       "      <th>4</th>\n",
       "      <td>1602662414934051072</td>\n",
       "      <td>2020-10-14 08:00:14.933700608</td>\n",
       "      <td>115001</td>\n",
       "      <td>62879129948257</td>\n",
       "      <td>12</td>\n",
       "      <td>1</td>\n",
       "      <td>[12, 37]</td>\n",
       "      <td>351.52</td>\n",
       "      <td>1</td>\n",
       "      <td>NaN</td>\n",
       "      <td>NaN</td>\n",
       "      <td>NaN</td>\n",
       "    </tr>\n",
       "  </tbody>\n",
       "</table>\n",
       "</div>"
      ],
      "text/plain": [
       "                     t                             y       q               i  \\\n",
       "0  1602662400013037568 2020-10-14 08:00:00.013010688  114301  52983525027889   \n",
       "1  1602662400184239872 2020-10-14 08:00:00.184208896  114401  52983525027890   \n",
       "2  1602662400999701248 2020-10-14 08:00:00.999350883  114701  62879129947992   \n",
       "3  1602662409152549632 2020-10-14 08:00:09.152190867  114901  62879129948219   \n",
       "4  1602662414934051072 2020-10-14 08:00:14.933700608  115001  62879129948257   \n",
       "\n",
       "    x    s                 c       p  z   f   r   e  \n",
       "0  11  351          [12, 41]  351.60  1 NaN NaN NaN  \n",
       "1  11   10  [14, 12, 37, 41]  351.56  1 NaN NaN NaN  \n",
       "2  12    2  [14, 12, 37, 41]  351.59  1 NaN NaN NaN  \n",
       "3  12    1          [12, 37]  351.53  1 NaN NaN NaN  \n",
       "4  12    1          [12, 37]  351.52  1 NaN NaN NaN  "
      ]
     },
     "execution_count": 18,
     "metadata": {},
     "output_type": "execute_result"
    }
   ],
   "source": [
    "df2.head()"
   ]
  },
  {
   "cell_type": "code",
   "execution_count": 19,
   "metadata": {},
   "outputs": [
    {
     "name": "stdout",
     "output_type": "stream",
     "text": [
      "                              y       p    s\n",
      "0 2020-10-14 08:00:00.013010688  351.60  351\n",
      "1 2020-10-14 08:00:00.184208896  351.56   10\n",
      "2 2020-10-14 08:00:00.999350883  351.59    2\n",
      "3 2020-10-14 08:00:09.152190867  351.53    1\n",
      "4 2020-10-14 08:00:14.933700608  351.52    1\n",
      "                              y       p  s       P  S\n",
      "0 2020-10-14 08:00:00.433516643  351.56  5  351.64  3\n",
      "1 2020-10-14 08:00:00.433574763  351.56  6  351.64  3\n",
      "2 2020-10-14 08:00:00.697614746  351.58  6  351.64  3\n",
      "3 2020-10-14 08:00:00.735212563  351.59  5  351.64  3\n",
      "4 2020-10-14 08:00:00.896837888  351.59  5  351.65  3\n"
     ]
    }
   ],
   "source": [
    "df2 = df2[['y','p','s']]\n",
    "df1 = df1[['y','p','s','P','S']]\n",
    "print(df2.head())\n",
    "print(df1.head())"
   ]
  },
  {
   "cell_type": "code",
   "execution_count": 20,
   "metadata": {},
   "outputs": [
    {
     "name": "stdout",
     "output_type": "stream",
     "text": [
      "                           time  trade_price  trade_size\n",
      "0 2020-10-14 08:00:00.013010688       351.60         351\n",
      "1 2020-10-14 08:00:00.184208896       351.56          10\n",
      "2 2020-10-14 08:00:00.999350883       351.59           2\n",
      "3 2020-10-14 08:00:09.152190867       351.53           1\n",
      "4 2020-10-14 08:00:14.933700608       351.52           1\n",
      "                           time     bid  bid_size     ask  ask_size\n",
      "0 2020-10-14 08:00:00.433516643  351.56         5  351.64         3\n",
      "1 2020-10-14 08:00:00.433574763  351.56         6  351.64         3\n",
      "2 2020-10-14 08:00:00.697614746  351.58         6  351.64         3\n",
      "3 2020-10-14 08:00:00.735212563  351.59         5  351.64         3\n",
      "4 2020-10-14 08:00:00.896837888  351.59         5  351.65         3\n"
     ]
    }
   ],
   "source": [
    "df2.columns = ['time','trade_price','trade_size']\n",
    "df1.columns = ['time','bid','bid_size','ask','ask_size']\n",
    "print(df2.head())\n",
    "print(df1.head())"
   ]
  },
  {
   "cell_type": "code",
   "execution_count": 23,
   "metadata": {},
   "outputs": [
    {
     "name": "stdout",
     "output_type": "stream",
     "text": [
      "                               time  trade_price  trade_size     bid  \\\n",
      "49995 2020-10-14 14:25:26.270426624       350.69          13  349.62   \n",
      "49996 2020-10-14 14:25:26.270451000       350.69         398  349.62   \n",
      "49997 2020-10-14 14:25:26.270623744       350.69         987  349.62   \n",
      "49998 2020-10-14 14:25:26.270784000       350.69         887  349.62   \n",
      "49999 2020-10-14 14:25:26.270851072       350.69          13  349.62   \n",
      "\n",
      "       bid_size     ask  ask_size  \n",
      "49995       5.0  349.64       5.0  \n",
      "49996       5.0  349.64       5.0  \n",
      "49997       5.0  349.64       5.0  \n",
      "49998       5.0  349.64       5.0  \n",
      "49999       5.0  349.64       5.0  \n"
     ]
    }
   ],
   "source": [
    "df1 = df1.sort_values('time')\n",
    "df2 = df2.sort_values('time')\n",
    "df3 = pd.merge_asof(df2,df1,on='time')\n",
    "print(df3.tail())"
   ]
  },
  {
   "cell_type": "code",
   "execution_count": 24,
   "metadata": {},
   "outputs": [],
   "source": [
    "df3.to_csv('taq.csv',index=False)\n",
    "df1.to_csv('quotes.csv',index=False)\n",
    "df2.to_csv('trades.csv',index=False)"
   ]
  },
  {
   "cell_type": "code",
   "execution_count": 25,
   "metadata": {},
   "outputs": [],
   "source": [
    "df3 = pd.merge_asof(df1,df2,on='time')\n",
    "df3.to_csv('qat.csv',index=False)"
   ]
  },
  {
   "cell_type": "code",
   "execution_count": 2,
   "metadata": {},
   "outputs": [
    {
     "name": "stdout",
     "output_type": "stream",
     "text": [
      "32448\n"
     ]
    }
   ],
   "source": [
    "buff = 0\n",
    "bid_df = []\n",
    "i = 0\n",
    "from IPython.display import display, clear_output\n",
    "while True:\n",
    "\n",
    "    btcquot = requests.get('https://api.polygon.io/v2/snapshot/locale/global/markets/crypto/tickers/X:BTCUSD/book?&apiKey=lufsUoEw8W8uwOu6T9S3jMYSTFBCvUyf')\n",
    "    btcquot = json.loads(btcquot.text)\n",
    "    if btcquot[\"data\"][\"updated\"] != buff:\n",
    "        clear_output(wait=True)\n",
    "        buff = btcquot[\"data\"][\"updated\"]\n",
    "        b = btcquot[\"data\"]['bids'][-1]['p']\n",
    "        size = sum(btcquot[\"data\"]['bids'][-1]['x'].values())\n",
    "        bid_df += [(btcquot[\"data\"]['bids'][-1]['p'], size,\n",
    "                   btcquot[\"data\"][\"updated\"])]\n",
    "        print(btcquot[\"data\"]['bids'][0]['p'])\n",
    "        i = i+1\n",
    "        \n",
    "    if len(bid_df) > 20:\n",
    "        break\n",
    "\n"
   ]
  },
  {
   "cell_type": "code",
   "execution_count": 61,
   "metadata": {},
   "outputs": [],
   "source": [
    "df4 = pd.DataFrame(bid_df,columns=['bid','bid_size','time'])\n",
    "df4.time = pd.to_datetime(df4.time)\n",
    "df4.to_csv('btcticksample.csv', index = False)\n"
   ]
  },
  {
   "cell_type": "code",
   "execution_count": 4,
   "metadata": {},
   "outputs": [
    {
     "name": "stdout",
     "output_type": "stream",
     "text": [
      "30975\n",
      "32369\n"
     ]
    }
   ],
   "source": [
    "print(btcquot[\"data\"]['bids'][-1]['p'])\n",
    "print(btcquot[\"data\"]['asks'][-1]['p'])"
   ]
  },
  {
   "cell_type": "code",
   "execution_count": 95,
   "metadata": {},
   "outputs": [
    {
     "name": "stdout",
     "output_type": "stream",
     "text": [
      "{'c': [1], 'i': '194778975', 'p': 31414.35, 's': 0.00935741, 't': 1626621495285, 'x': 1}\n"
     ]
    }
   ],
   "source": [
    "bimba = requests.get('https://api.polygon.io/v2/snapshot/locale/global/markets/crypto/tickers/X:BTCUSD?&apiKey=lufsUoEw8W8uwOu6T9S3jMYSTFBCvUyf')\n",
    "bimba = json.loads(bimba.text)\n",
    "print(bimba['ticker']['lastTrade'])"
   ]
  },
  {
   "cell_type": "code",
   "execution_count": 93,
   "metadata": {},
   "outputs": [
    {
     "name": "stdout",
     "output_type": "stream",
     "text": [
      "{'results': {'c': [1], 'i': [605], 'p': 431.27, 's': 11, 'x': 11, 'P': 431.3, 'S': 1, 'X': 11, 'z': 1, 'T': 'SPY', 't': 1626479915170710272, 'y': 1626479915170367005, 'q': 55778085}, 'status': 'OK', 'request_id': '15687524a6ba73c3a875b1b46715394b'}\n"
     ]
    }
   ],
   "source": [
    "spy = requests.get('https://api.polygon.io/v2/last/nbbo/SPY?&apiKey=lufsUoEw8W8uwOu6T9S3jMYSTFBCvUyf')\n",
    "spy = json.loads(spy.text)\n",
    "print(spy)"
   ]
  },
  {
   "cell_type": "code",
   "execution_count": 96,
   "metadata": {},
   "outputs": [
    {
     "name": "stdout",
     "output_type": "stream",
     "text": [
      "{'results': {'c': [15], 'i': '52983560361298', 'p': 431.34, 's': 1195837, 'x': 11, 'z': 1, 'T': 'SPY', 't': 1626480000002585088, 'y': 1626480000002557696, 'q': 929430}, 'status': 'OK', 'request_id': '44044822df309985be3c107abf1c48e1'}\n"
     ]
    }
   ],
   "source": [
    "spy = requests.get('https://api.polygon.io/v2/last/trade/SPY?&apiKey=lufsUoEw8W8uwOu6T9S3jMYSTFBCvUyf')\n",
    "spy = json.loads(spy.text)\n",
    "print(spy)"
   ]
  },
  {
   "cell_type": "code",
   "execution_count": null,
   "metadata": {},
   "outputs": [],
   "source": []
  }
 ],
 "metadata": {
  "kernelspec": {
   "display_name": "Python 3",
   "language": "python",
   "name": "python3"
  },
  "language_info": {
   "codemirror_mode": {
    "name": "ipython",
    "version": 3
   },
   "file_extension": ".py",
   "mimetype": "text/x-python",
   "name": "python",
   "nbconvert_exporter": "python",
   "pygments_lexer": "ipython3",
   "version": "3.7.6"
  }
 },
 "nbformat": 4,
 "nbformat_minor": 4
}
