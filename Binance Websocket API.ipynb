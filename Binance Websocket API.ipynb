{
 "cells": [
  {
   "cell_type": "code",
   "execution_count": 1,
   "metadata": {},
   "outputs": [
    {
     "name": "stdout",
     "output_type": "stream",
     "text": [
      "Collecting python-binance\n",
      "  Downloading python_binance-1.0.15-py2.py3-none-any.whl (63 kB)\n",
      "Collecting dateparser\n",
      "  Downloading dateparser-1.1.0-py2.py3-none-any.whl (288 kB)\n",
      "Requirement already satisfied: ujson in c:\\users\\91984\\anaconda3\\lib\\site-packages (from python-binance) (1.35)\n",
      "Collecting websockets==9.1\n",
      "  Downloading websockets-9.1-cp37-cp37m-win_amd64.whl (90 kB)\n",
      "Requirement already satisfied: aiohttp in c:\\users\\91984\\anaconda3\\lib\\site-packages (from python-binance) (3.8.1)\n",
      "Requirement already satisfied: six in c:\\users\\91984\\anaconda3\\lib\\site-packages (from python-binance) (1.16.0)\n",
      "Requirement already satisfied: requests in c:\\users\\91984\\anaconda3\\lib\\site-packages (from python-binance) (2.26.0)\n",
      "Requirement already satisfied: regex!=2019.02.19,!=2021.8.27 in c:\\users\\91984\\anaconda3\\lib\\site-packages (from dateparser->python-binance) (2020.10.15)\n",
      "Requirement already satisfied: tzlocal in c:\\users\\91984\\anaconda3\\lib\\site-packages (from dateparser->python-binance) (2.1)\n",
      "Requirement already satisfied: python-dateutil in c:\\users\\91984\\anaconda3\\lib\\site-packages (from dateparser->python-binance) (2.8.1)\n",
      "Requirement already satisfied: pytz in c:\\users\\91984\\anaconda3\\lib\\site-packages (from dateparser->python-binance) (2021.1)\n",
      "Requirement already satisfied: charset-normalizer<3.0,>=2.0 in c:\\users\\91984\\anaconda3\\lib\\site-packages (from aiohttp->python-binance) (2.0.3)\n",
      "Requirement already satisfied: asynctest==0.13.0; python_version < \"3.8\" in c:\\users\\91984\\anaconda3\\lib\\site-packages (from aiohttp->python-binance) (0.13.0)\n",
      "Requirement already satisfied: multidict<7.0,>=4.5 in c:\\users\\91984\\anaconda3\\lib\\site-packages (from aiohttp->python-binance) (5.2.0)\n",
      "Requirement already satisfied: aiosignal>=1.1.2 in c:\\users\\91984\\anaconda3\\lib\\site-packages (from aiohttp->python-binance) (1.2.0)\n",
      "Requirement already satisfied: attrs>=17.3.0 in c:\\users\\91984\\anaconda3\\lib\\site-packages (from aiohttp->python-binance) (19.3.0)\n",
      "Requirement already satisfied: typing-extensions>=3.7.4; python_version < \"3.8\" in c:\\users\\91984\\anaconda3\\lib\\site-packages (from aiohttp->python-binance) (3.7.4.3)\n",
      "Requirement already satisfied: frozenlist>=1.1.1 in c:\\users\\91984\\anaconda3\\lib\\site-packages (from aiohttp->python-binance) (1.2.0)\n",
      "Requirement already satisfied: async-timeout<5.0,>=4.0.0a3 in c:\\users\\91984\\anaconda3\\lib\\site-packages (from aiohttp->python-binance) (4.0.2)\n",
      "Requirement already satisfied: yarl<2.0,>=1.0 in c:\\users\\91984\\anaconda3\\lib\\site-packages (from aiohttp->python-binance) (1.7.2)\n",
      "Requirement already satisfied: idna<4,>=2.5; python_version >= \"3\" in c:\\users\\91984\\anaconda3\\lib\\site-packages (from requests->python-binance) (3.2)\n",
      "Requirement already satisfied: urllib3<1.27,>=1.21.1 in c:\\users\\91984\\anaconda3\\lib\\site-packages (from requests->python-binance) (1.26.6)\n",
      "Requirement already satisfied: certifi>=2017.4.17 in c:\\users\\91984\\anaconda3\\lib\\site-packages (from requests->python-binance) (2021.5.30)\n",
      "Installing collected packages: dateparser, websockets, python-binance\n",
      "  Attempting uninstall: websockets\n",
      "    Found existing installation: websockets 8.1\n",
      "    Uninstalling websockets-8.1:\n",
      "      Successfully uninstalled websockets-8.1\n",
      "Successfully installed dateparser-1.1.0 python-binance-1.0.15 websockets-9.1\n"
     ]
    },
    {
     "name": "stderr",
     "output_type": "stream",
     "text": [
      "ERROR: pyppeteer 0.2.2 has requirement websockets<9.0,>=8.1, but you'll have websockets 9.1 which is incompatible.\n"
     ]
    }
   ],
   "source": [
    "!pip install python-binance"
   ]
  },
  {
   "cell_type": "code",
   "execution_count": 1,
   "metadata": {},
   "outputs": [
    {
     "name": "stdout",
     "output_type": "stream",
     "text": [
      "{'e': '24hrTicker', 'E': 1641699991782, 's': 'BTCUSDT', 'p': '27.08000000', 'P': '0.065', 'w': '41486.44594098', 'x': '41851.00000000', 'c': '41873.69000000', 'Q': '0.24299000', 'b': '41873.68000000', 'B': '2.08703000', 'a': '41873.69000000', 'A': '0.00778000', 'o': '41846.61000000', 'h': '42300.00000000', 'l': '40501.00000000', 'v': '33651.70610000', 'q': '1396089685.93947960', 'O': 1641613591782, 'C': 1641699991782, 'F': 1215174521, 'L': 1216207273, 'n': 1032753}\n"
     ]
    }
   ],
   "source": [
    "import asyncio\n",
    "from binance import AsyncClient, BinanceSocketManager\n",
    "from IPython.display import display, clear_output\n",
    "\n",
    "async def main():\n",
    "    client = await AsyncClient.create()\n",
    "    bm = BinanceSocketManager(client)\n",
    "    # start any sockets here, i.e a trade socket\n",
    "    ts = bm.symbol_ticker_socket('BTCUSDT')\n",
    "    # then start receiving messages\n",
    "    async with ts as tscm:\n",
    "        while True:\n",
    "            clear_output(wait=True)\n",
    "            res = await tscm.recv()\n",
    "            print(res)\n",
    "\n",
    "    await client.close_connection()\n",
    "\n",
    "if __name__ == \"__main__\":\n",
    "\n",
    "    loop = asyncio.get_event_loop()\n",
    "    loop.run_until_complete(main())"
   ]
  },
  {
   "cell_type": "code",
   "execution_count": null,
   "metadata": {},
   "outputs": [],
   "source": []
  }
 ],
 "metadata": {
  "kernelspec": {
   "display_name": "Python 3",
   "language": "python",
   "name": "python3"
  },
  "language_info": {
   "codemirror_mode": {
    "name": "ipython",
    "version": 3
   },
   "file_extension": ".py",
   "mimetype": "text/x-python",
   "name": "python",
   "nbconvert_exporter": "python",
   "pygments_lexer": "ipython3",
   "version": "3.7.6"
  }
 },
 "nbformat": 4,
 "nbformat_minor": 4
}
