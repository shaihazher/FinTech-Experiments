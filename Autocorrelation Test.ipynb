{
 "cells": [
  {
   "cell_type": "code",
   "execution_count": 34,
   "metadata": {},
   "outputs": [
    {
     "data": {
      "text/html": [
       "<div>\n",
       "<style scoped>\n",
       "    .dataframe tbody tr th:only-of-type {\n",
       "        vertical-align: middle;\n",
       "    }\n",
       "\n",
       "    .dataframe tbody tr th {\n",
       "        vertical-align: top;\n",
       "    }\n",
       "\n",
       "    .dataframe thead th {\n",
       "        text-align: right;\n",
       "    }\n",
       "</style>\n",
       "<table border=\"1\" class=\"dataframe\">\n",
       "  <thead>\n",
       "    <tr style=\"text-align: right;\">\n",
       "      <th></th>\n",
       "      <th>trade_price</th>\n",
       "      <th>trade_qty</th>\n",
       "      <th>dollar_val</th>\n",
       "      <th>top_bid</th>\n",
       "      <th>top_ask</th>\n",
       "      <th>weight</th>\n",
       "      <th>signed_dollar_val</th>\n",
       "      <th>5_EMA</th>\n",
       "      <th>50_SMA</th>\n",
       "      <th>20_SMA</th>\n",
       "      <th>ma_diff</th>\n",
       "    </tr>\n",
       "  </thead>\n",
       "  <tbody>\n",
       "    <tr>\n",
       "      <th>20</th>\n",
       "      <td>30739.14</td>\n",
       "      <td>0.001</td>\n",
       "      <td>30.73914</td>\n",
       "      <td>30739.14</td>\n",
       "      <td>30739.15</td>\n",
       "      <td>-1</td>\n",
       "      <td>-30.73914</td>\n",
       "      <td>30738.753255</td>\n",
       "      <td>NaN</td>\n",
       "      <td>30736.8240</td>\n",
       "      <td>1.929255</td>\n",
       "    </tr>\n",
       "    <tr>\n",
       "      <th>21</th>\n",
       "      <td>30739.15</td>\n",
       "      <td>0.012</td>\n",
       "      <td>368.86980</td>\n",
       "      <td>30739.14</td>\n",
       "      <td>30739.15</td>\n",
       "      <td>1</td>\n",
       "      <td>368.86980</td>\n",
       "      <td>30738.885503</td>\n",
       "      <td>NaN</td>\n",
       "      <td>30736.9955</td>\n",
       "      <td>1.890003</td>\n",
       "    </tr>\n",
       "    <tr>\n",
       "      <th>22</th>\n",
       "      <td>30740.72</td>\n",
       "      <td>0.274</td>\n",
       "      <td>8422.95728</td>\n",
       "      <td>30739.14</td>\n",
       "      <td>30739.15</td>\n",
       "      <td>1</td>\n",
       "      <td>8422.95728</td>\n",
       "      <td>30739.497002</td>\n",
       "      <td>NaN</td>\n",
       "      <td>30737.2705</td>\n",
       "      <td>2.226502</td>\n",
       "    </tr>\n",
       "    <tr>\n",
       "      <th>23</th>\n",
       "      <td>30740.71</td>\n",
       "      <td>0.001</td>\n",
       "      <td>30.74071</td>\n",
       "      <td>30740.71</td>\n",
       "      <td>30740.72</td>\n",
       "      <td>-1</td>\n",
       "      <td>-30.74071</td>\n",
       "      <td>30739.901335</td>\n",
       "      <td>NaN</td>\n",
       "      <td>30737.5450</td>\n",
       "      <td>2.356335</td>\n",
       "    </tr>\n",
       "    <tr>\n",
       "      <th>24</th>\n",
       "      <td>30740.71</td>\n",
       "      <td>0.002</td>\n",
       "      <td>61.48142</td>\n",
       "      <td>30740.71</td>\n",
       "      <td>30740.72</td>\n",
       "      <td>-1</td>\n",
       "      <td>-61.48142</td>\n",
       "      <td>30740.170890</td>\n",
       "      <td>NaN</td>\n",
       "      <td>30737.8195</td>\n",
       "      <td>2.351390</td>\n",
       "    </tr>\n",
       "  </tbody>\n",
       "</table>\n",
       "</div>"
      ],
      "text/plain": [
       "    trade_price  trade_qty  dollar_val   top_bid   top_ask  weight  \\\n",
       "20     30739.14      0.001    30.73914  30739.14  30739.15      -1   \n",
       "21     30739.15      0.012   368.86980  30739.14  30739.15       1   \n",
       "22     30740.72      0.274  8422.95728  30739.14  30739.15       1   \n",
       "23     30740.71      0.001    30.74071  30740.71  30740.72      -1   \n",
       "24     30740.71      0.002    61.48142  30740.71  30740.72      -1   \n",
       "\n",
       "    signed_dollar_val         5_EMA  50_SMA      20_SMA   ma_diff  \n",
       "20          -30.73914  30738.753255     NaN  30736.8240  1.929255  \n",
       "21          368.86980  30738.885503     NaN  30736.9955  1.890003  \n",
       "22         8422.95728  30739.497002     NaN  30737.2705  2.226502  \n",
       "23          -30.74071  30739.901335     NaN  30737.5450  2.356335  \n",
       "24          -61.48142  30740.170890     NaN  30737.8195  2.351390  "
      ]
     },
     "execution_count": 34,
     "metadata": {},
     "output_type": "execute_result"
    }
   ],
   "source": [
    "from statsmodels.tsa.stattools import acf\n",
    "import pandas as pd\n",
    "from statsmodels.tsa.stattools import adfuller\n",
    "from matplotlib import pyplot\n",
    "import ta\n",
    "def indicator_fill(df):\n",
    "    a = ta.trend.ema_indicator(close=df.trade_price,window=5)\n",
    "    f = ta.trend.sma_indicator(close=df.trade_price,window=50)\n",
    "    i = ta.trend.sma_indicator(close=df.trade_price,window=20)\n",
    "    df[\"5_EMA\"] = a\n",
    "    df[\"50_SMA\"] = f\n",
    "    df[\"20_SMA\"] = i\n",
    "    return df\n",
    "df = pd.read_csv('correlation_test.csv')\n",
    "df = indicator_fill(df)\n",
    "df = df[20:]\n",
    "df['ma_diff'] = df['5_EMA'] - df['20_SMA']\n",
    "from statsmodels.formula.api import ols\n",
    "from statsmodels.stats.stattools import durbin_watson\n",
    "from pandas.plotting import autocorrelation_plot\n",
    "\n",
    "df.head()"
   ]
  },
  {
   "cell_type": "code",
   "execution_count": 35,
   "metadata": {},
   "outputs": [
    {
     "data": {
      "text/plain": [
       "<matplotlib.axes._subplots.AxesSubplot at 0x2172af40d48>"
      ]
     },
     "execution_count": 35,
     "metadata": {},
     "output_type": "execute_result"
    },
    {
     "data": {
      "image/png": "[encoded data removed]",
      "text/plain": [
       "<Figure size 432x288 with 1 Axes>"
      ]
     },
     "metadata": {
      "needs_background": "light"
     },
     "output_type": "display_data"
    }
   ],
   "source": [
    "autocorrelation_plot(df.signed_dollar_val)"
   ]
  },
  {
   "cell_type": "code",
   "execution_count": 36,
   "metadata": {},
   "outputs": [
    {
     "data": {
      "image/png": "[encoded data removed]",
      "text/plain": [
       "<Figure size 432x288 with 1 Axes>"
      ]
     },
     "metadata": {
      "needs_background": "light"
     },
     "output_type": "display_data"
    },
    {
     "name": "stdout",
     "output_type": "stream",
     "text": [
      "count       980.000000\n",
      "mean       -692.194677\n",
      "std        6865.129875\n",
      "min     -148357.845000\n",
      "25%        -952.857540\n",
      "50%        -215.086480\n",
      "75%         122.884140\n",
      "max       37383.001600\n",
      "Name: signed_dollar_val, dtype: float64\n",
      "\n",
      "ADF Statistic: -30.860054\n",
      "p-value: 0.000000\n",
      "\n",
      "Critical Values:\n",
      "\t1%: -3.437\n",
      "\t5%: -2.864\n",
      "\t10%: -2.568\n",
      "20     -30.73914\n",
      "21     368.86980\n",
      "22    8422.95728\n",
      "23     -30.74071\n",
      "24     -61.48142\n",
      "Name: signed_dollar_val, dtype: float64\n"
     ]
    }
   ],
   "source": [
    "import numpy as np\n",
    "\n",
    "pyplot.plot(df.signed_dollar_val)\n",
    "pyplot.show()\n",
    "print(df.signed_dollar_val.describe())\n",
    "result = adfuller(df.signed_dollar_val)\n",
    "print('\\nADF Statistic: %f' % result[0])\n",
    "print('p-value: %f' % result[1])\n",
    "print('\\nCritical Values:')\n",
    "for key, value in result[4].items():\n",
    "\tprint('\\t%s: %.3f' % (key, value))\n",
    "\n",
    "print(df.signed_dollar_val.head())"
   ]
  },
  {
   "cell_type": "code",
   "execution_count": 71,
   "metadata": {},
   "outputs": [
    {
     "name": "stdout",
     "output_type": "stream",
     "text": [
      "        Ask       Ask_Pct       std  atr_volatility  50_tick_return  \\\n",
      "0  3640.264  2.470000e-06  0.000039           1.557        0.000017   \n",
      "1  3640.254 -2.750000e-06  0.000038           1.557       -0.000056   \n",
      "2  3640.464  5.770000e-05  0.000038           1.557        0.000057   \n",
      "3  3640.267 -5.410000e-05  0.000039           1.557        0.000002   \n",
      "4  3640.264 -8.240000e-07  0.000038           1.557        0.000058   \n",
      "\n",
      "   past_max_val  past_min_val  buy_take_profit  sell_take_profit  buy_stop  \\\n",
      "0      3641.058      3639.501         3643.378          3637.150  3637.944   \n",
      "1      3641.058      3639.501         3643.368          3637.140  3637.944   \n",
      "2      3641.058      3639.501         3643.578          3637.350  3637.944   \n",
      "3      3641.058      3639.501         3643.381          3637.153  3637.944   \n",
      "4      3641.058      3639.501         3643.378          3637.150  3637.944   \n",
      "\n",
      "   ...  up_move  down_move  profit_pos  loss_pos  future_max_val  \\\n",
      "0  ...    2.510      0.000         144         0        3642.764   \n",
      "1  ...    2.300     -0.201         143         3        3642.764   \n",
      "2  ...    2.497     -0.004         142         2        3642.764   \n",
      "3  ...    2.500     -0.001         141         1        3642.764   \n",
      "4  ...    2.501      0.000         140         0        3642.764   \n",
      "\n",
      "   future_min_val  last_close  buy_lab  sell_lab  time_diff  \n",
      "0        3640.254    3641.261        0         1      0.050  \n",
      "1        3640.263    3641.249        0         1      1.151  \n",
      "2        3640.263    3641.251        0         1      0.050  \n",
      "3        3640.263    3641.467        0         1      0.113  \n",
      "4        3640.263    3641.249        0         1      0.050  \n",
      "\n",
      "[5 rows x 26 columns]\n",
      "\n",
      "ADF Statistic: -6.300526\n",
      "p-value: 0.000000\n",
      "\n",
      "Critical Values:\n",
      "\t1%: -3.435\n",
      "\t5%: -2.864\n",
      "\t10%: -2.568\n"
     ]
    }
   ],
   "source": [
    "df = pd.read_csv('check.csv')\n",
    "print(df.head())\n",
    "result = adfuller(df.ma_diff)\n",
    "print('\\nADF Statistic: %f' % result[0])\n",
    "print('p-value: %f' % result[1])\n",
    "print('\\nCritical Values:')\n",
    "for key, value in result[4].items():\n",
    "\tprint('\\t%s: %.3f' % (key, value))"
   ]
  },
  {
   "cell_type": "code",
   "execution_count": 78,
   "metadata": {},
   "outputs": [
    {
     "data": {
      "text/plain": [
       "[<matplotlib.lines.Line2D at 0x2172c700888>]"
      ]
     },
     "execution_count": 78,
     "metadata": {},
     "output_type": "execute_result"
    },
    {
     "data": {
      "image/png": "[encoded data removed]",
      "text/plain": [
       "<Figure size 432x288 with 1 Axes>"
      ]
     },
     "metadata": {
      "needs_background": "light"
     },
     "output_type": "display_data"
    }
   ],
   "source": [
    "pyplot.plot(df.ma_diff)"
   ]
  },
  {
   "cell_type": "code",
   "execution_count": 75,
   "metadata": {},
   "outputs": [
    {
     "name": "stderr",
     "output_type": "stream",
     "text": [
      "C:\\Users\\91984\\anaconda3\\lib\\site-packages\\statsmodels\\stats\\diagnostic.py:559: FutureWarning: The value returned will change to a single DataFrame after 0.12 is released.  Set return_df to True to use to return a DataFrame now.  Set return_df to False to silence this warning.\n",
      "  warnings.warn(msg, FutureWarning)\n"
     ]
    },
    {
     "data": {
      "text/plain": [
       "(array([3079.95820868]), array([0.]), array([2988.64836207]), array([0.]))"
      ]
     },
     "execution_count": 75,
     "metadata": {},
     "output_type": "execute_result"
    },
    {
     "data": {
      "image/png": "[encoded data removed]",
      "text/plain": [
       "<Figure size 432x288 with 1 Axes>"
      ]
     },
     "metadata": {
      "needs_background": "light"
     },
     "output_type": "display_data"
    }
   ],
   "source": [
    "import statsmodels.stats.diagnostic as diag\n",
    "import statsmodels.graphics.tsaplots as tsa\n",
    "#diag.acorr_ljungbox(df['ma_diff'], lags=[100], boxpierce=True, model_df=0, period=None, return_df=None)\n",
    "tsa.plot_acf(df['ma_diff'], lags=100, alpha=0.05, title='Auto-correlation coefficients for lags 1 through 40')\n",
    "\n",
    "diag.acorr_ljungbox(df['ma_diff'].diff()[1:], lags=[100], boxpierce=True, model_df=0, period=None, return_df=None)"
   ]
  },
  {
   "cell_type": "code",
   "execution_count": 43,
   "metadata": {},
   "outputs": [
    {
     "name": "stdout",
     "output_type": "stream",
     "text": [
      "count    300.000000\n",
      "mean      -0.109867\n",
      "std        2.038369\n",
      "min       -7.231666\n",
      "25%       -0.934933\n",
      "50%       -0.029520\n",
      "75%        1.119213\n",
      "max        3.537630\n",
      "Name: ma_diff, dtype: float64\n",
      "\n",
      "------------------\n",
      "count    300.000000\n",
      "mean      -0.507894\n",
      "std        2.114320\n",
      "min       -7.215332\n",
      "25%       -1.184143\n",
      "50%       -0.437137\n",
      "75%        0.441621\n",
      "max        6.096071\n",
      "Name: ma_diff, dtype: float64\n"
     ]
    }
   ],
   "source": [
    "print(df.ma_diff[:300].describe())\n",
    "print('\\n------------------')\n",
    "print(df.ma_diff[400:700].describe())"
   ]
  },
  {
   "cell_type": "code",
   "execution_count": 26,
   "metadata": {},
   "outputs": [
    {
     "name": "stdout",
     "output_type": "stream",
     "text": [
      "    top_bid  top_bid_qty   dollar_val\n",
      "0  30735.77        0.388  11925.47876\n",
      "1  30735.77        0.382  11741.06414\n",
      "2  30735.72        0.001     30.73572\n",
      "3  30735.57        0.001     30.73557\n",
      "4  30735.22        0.163   5009.84086\n",
      "ADF Statistic: -2.193665\n",
      "p-value: 0.208553\n",
      "Critical Values:\n",
      "\t1%: -3.436\n",
      "\t5%: -2.864\n",
      "\t10%: -2.568\n",
      "count      1087.000000\n",
      "mean     137867.310906\n",
      "std      167981.991772\n",
      "min          30.712360\n",
      "25%       15133.811865\n",
      "50%       79970.433230\n",
      "75%      188691.569650\n",
      "max      843429.870000\n",
      "Name: dollar_val, dtype: float64\n"
     ]
    }
   ],
   "source": [
    "df = pd.read_csv('corr.csv')\n",
    "print(df.head())\n",
    "result = adfuller(df.top_bid)\n",
    "print('ADF Statistic: %f' % result[0])\n",
    "print('p-value: %f' % result[1])\n",
    "print('Critical Values:')\n",
    "for key, value in result[4].items():\n",
    "\tprint('\\t%s: %.3f' % (key, value))\n",
    "print(df.dollar_val.describe())"
   ]
  },
  {
   "cell_type": "code",
   "execution_count": null,
   "metadata": {},
   "outputs": [],
   "source": [
    "model = ols('dollar_val ~ trade_qty', data = df).fit()\n",
    "durbin_watson(model.resid)\n",
    "acf(df.trade_price)"
   ]
  },
  {
   "cell_type": "code",
   "execution_count": null,
   "metadata": {},
   "outputs": [],
   "source": [
    "acf(df.dollar_val)"
   ]
  },
  {
   "cell_type": "code",
   "execution_count": null,
   "metadata": {},
   "outputs": [],
   "source": [
    "df = pd.read_csv('corr.csv')\n",
    "df.head()\n",
    "model = ols('top_bid ~ top_bid_qty', data = df).fit()\n",
    "durbin_watson(model.resid)"
   ]
  },
  {
   "cell_type": "code",
   "execution_count": null,
   "metadata": {},
   "outputs": [],
   "source": [
    "acf(df.top_bid)"
   ]
  },
  {
   "cell_type": "code",
   "execution_count": null,
   "metadata": {},
   "outputs": [],
   "source": [
    "acf(df.dollar_val)"
   ]
  },
  {
   "cell_type": "code",
   "execution_count": null,
   "metadata": {},
   "outputs": [],
   "source": [
    "import ta\n",
    "def indicator_fill(df):\n",
    "    a = ta.trend.ema_indicator(close=df.trade_price,window=5)\n",
    "    f = ta.trend.sma_indicator(close=df.trade_price,window=50)\n",
    "    i = ta.trend.sma_indicator(close=df.trade_price,window=20)\n",
    "    df[\"5_EMA\"] = a\n",
    "    df[\"50_SMA\"] = f\n",
    "    df[\"20_SMA\"] = i\n",
    "    return df\n"
   ]
  },
  {
   "cell_type": "code",
   "execution_count": null,
   "metadata": {},
   "outputs": [],
   "source": [
    "df = indicator_fill(df)\n",
    "df = df[20:]\n",
    "df['ma_diff'] = df['5_EMA'] - df['20_SMA']\n",
    "df.head()"
   ]
  },
  {
   "cell_type": "code",
   "execution_count": null,
   "metadata": {},
   "outputs": [],
   "source": [
    "acf(df.ma_diff)"
   ]
  },
  {
   "cell_type": "code",
   "execution_count": null,
   "metadata": {},
   "outputs": [],
   "source": [
    "df.tail()"
   ]
  },
  {
   "cell_type": "code",
   "execution_count": null,
   "metadata": {},
   "outputs": [],
   "source": []
  }
 ],
 "metadata": {
  "kernelspec": {
   "display_name": "Python 3",
   "language": "python",
   "name": "python3"
  },
  "language_info": {
   "codemirror_mode": {
    "name": "ipython",
    "version": 3
   },
   "file_extension": ".py",
   "mimetype": "text/x-python",
   "name": "python",
   "nbconvert_exporter": "python",
   "pygments_lexer": "ipython3",
   "version": "3.7.6"
  }
 },
 "nbformat": 4,
 "nbformat_minor": 4
}
